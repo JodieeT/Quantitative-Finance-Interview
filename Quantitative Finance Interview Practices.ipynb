{
  "metadata": {
    "kernelspec": {
      "name": "python",
      "display_name": "Python (Pyodide)",
      "language": "python"
    },
    "language_info": {
      "codemirror_mode": {
        "name": "python",
        "version": 3
      },
      "file_extension": ".py",
      "mimetype": "text/x-python",
      "name": "python",
      "nbconvert_exporter": "python",
      "pygments_lexer": "ipython3",
      "version": "3.8"
    }
  },
  "nbformat_minor": 4,
  "nbformat": 4,
  "cells": [
    {
      "cell_type": "markdown",
      "source": "# Screwy pirates\n",
      "metadata": {}
    },
    {
      "cell_type": "markdown",
      "source": "**game theory** and **dynamic programming**  \n2 pirates: #1 and #2, with #2 being the more senior. #2 can always get all of the 100 coins.  \n3 pirates: add a more senior pirate #3.  \nif #3's proposal is turned down, #1 will get nothing.\nif #3 gives #1 nothing, #3 will be killed.  \nThus, the proposal is to give #1 1 coin and keep the remaining 99 coins.  \n4 pirates: add a more senior pirate #4.  \nif #4's proposal is turned down, #2 will get nothing.  \nif #4 gives #2 nothing, #4 will be killed.  \nThus, the proposal is to give #2 1 coins and keep the remaining 99 coins.  \n5 pirates: add a more senior pirate #5.  \nif #5's proposal is turned down, #1 and #3 will get nothing.  \nThus, the proposal is to give #1 and #3 1 coin.  \n...  \nIf there are 2k+1 pirates, the proposal is to give #1, #3..., #2k-1 1 coin and keep the remaining coins. (#1, #3... from the least senior to the most senior)",
      "metadata": {}
    },
    {
      "cell_type": "markdown",
      "source": "# Tiger and sheep  ",
      "metadata": {}
    },
    {
      "cell_type": "markdown",
      "source": "1 tiger and 1 sheep: eat  \n2 tigers and 1 sheep: if tiger #1 eats the sheep, it will be eaten, so the sheep will not be eaten.  \n3 tigers and 1 sheep: if tiger #1 eats the sheep, the situation will be \"2 tigers and 1 sheep\", and it will not be eaten, so tiger #1 will eat the sheep.  \n4 tigers and 1 sheep: if tiger #1 eats the sheep, the situation will be \"3 tigers and 1 sheep\", and it will be eaten, so tiger #1 will not eat the sheep.  \n...  \nThus, when the number of tigers is odd, the sheep will be eaten. Otherwise, it will not be eaten. When there are 100 tigers, the sheep will not be eaten. ",
      "metadata": {}
    },
    {
      "cell_type": "code",
      "source": "",
      "metadata": {
        "trusted": true
      },
      "outputs": [],
      "execution_count": null
    }
  ]
}